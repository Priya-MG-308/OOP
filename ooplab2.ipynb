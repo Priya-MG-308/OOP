{
 "cells": [
  {
   "cell_type": "code",
   "execution_count": 9,
   "id": "c3ba94e8",
   "metadata": {},
   "outputs": [
    {
     "name": "stdout",
     "output_type": "stream",
     "text": [
      "Name is  Ram \n",
      "Age is  34 \n",
      "Salary is  1000000\n"
     ]
    }
   ],
   "source": [
    "class Employee:\n",
    "    def __init__(self,name,age,salary):\n",
    "        self.name=name\n",
    "        self.age=age\n",
    "        self.salary=salary\n",
    "    def details(self):\n",
    "        print(\"Name is \",self.name,\"\\nAge is \",self.age,\"\\nSalary is \",self.salary)\n",
    "        \n",
    "a=Employee(\"Ram\",34,1000000)\n",
    "\n",
    "a.details()"
   ]
  },
  {
   "cell_type": "code",
   "execution_count": 10,
   "id": "92042005",
   "metadata": {},
   "outputs": [
    {
     "name": "stdout",
     "output_type": "stream",
     "text": [
      "Ram 34 A\n"
     ]
    }
   ],
   "source": [
    "class Student:\n",
    "    def __init__(self):\n",
    "        self.name=\"Ram\"\n",
    "        self.age=34\n",
    "        self.grade=\"A\"\n",
    "a=Student()\n",
    "print(a.name,a.age,a.grade)"
   ]
  },
  {
   "cell_type": "code",
   "execution_count": 11,
   "id": "c66f0530",
   "metadata": {},
   "outputs": [
    {
     "name": "stdout",
     "output_type": "stream",
     "text": [
      "Length is  3 \n",
      "Breadth is  4\n"
     ]
    }
   ],
   "source": [
    "class Employee:\n",
    "    def __init__(self,length,breadth):\n",
    "        self.length=length\n",
    "        self.breadth=breadth\n",
    "    def details(self):\n",
    "        print(\"Length is \",self.length,\"\\nBreadth is \",self.breadth)   \n",
    "        \n",
    "a=Employee(3,4)\n",
    "\n",
    "a.details()"
   ]
  },
  {
   "cell_type": "code",
   "execution_count": 4,
   "id": "d7648959",
   "metadata": {},
   "outputs": [
    {
     "name": "stdout",
     "output_type": "stream",
     "text": [
      "\n",
      "----------------------\n",
      "Name is  Ram \n",
      "\n",
      "Age was  4\n",
      "It became  5\n",
      "\n",
      "----------------------\n",
      "Name is  Shyam \n",
      "\n",
      "Age was  7\n",
      "It became  8\n"
     ]
    }
   ],
   "source": [
    "class birthdayboy:\n",
    "    def __init__(self,name,age):\n",
    "        self.name=name\n",
    "        self.age=age\n",
    "    def birthday(self):\n",
    "        print(\"\\n----------------------\\nName is \",self.name,\"\\n\\nAge was \",self.age)   \n",
    "        self.age=self.age+1\n",
    "        print(\"It became \",self.age) \n",
    "        \n",
    "        \n",
    "a=birthdayboy(\"Ram\",4)\n",
    "a.birthday()\n",
    "\n",
    "b=birthdayboy(\"Shyam\",7)\n",
    "b.birthday()"
   ]
  },
  {
   "cell_type": "code",
   "execution_count": 12,
   "id": "a71cb4c1",
   "metadata": {},
   "outputs": [
    {
     "name": "stdout",
     "output_type": "stream",
     "text": [
      "Whenever, wherever\n",
      "We are meant to be together\n",
      "I will be there and you will be near\n",
      "Thats the deal my dear.\n"
     ]
    }
   ],
   "source": [
    "class Songs:\n",
    "    def __init__(self,lyrics):\n",
    "        self.lyrics=lyrics\n",
    "    def sing_me_a_song(self):\n",
    "        for i in self.lyrics:\n",
    "            print(i)\n",
    "song=['Whenever, wherever','We are meant to be together','I will be there and you will be near','Thats the deal my dear.']  \n",
    "a=Songs(song)\n",
    "a.sing_me_a_song()"
   ]
  },
  {
   "cell_type": "code",
   "execution_count": 13,
   "id": "757dcbf0",
   "metadata": {},
   "outputs": [
    {
     "name": "stdout",
     "output_type": "stream",
     "text": [
      "Area is :  506\n"
     ]
    }
   ],
   "source": [
    "class room:\n",
    "    def __init__(self,l,b):\n",
    "        self.l=l\n",
    "        self.b=b\n",
    "    def area(self):\n",
    "        print(\"Area is : \",self.l*self.b)\n",
    "r=room(22,23)\n",
    "r.area()"
   ]
  },
  {
   "cell_type": "code",
   "execution_count": 14,
   "id": "f95685d7",
   "metadata": {},
   "outputs": [
    {
     "name": "stdout",
     "output_type": "stream",
     "text": [
      "woof!\n",
      "None\n",
      "Enter name: Jackuu\n",
      "Name is  Jackuu\n"
     ]
    }
   ],
   "source": [
    "class Dog:\n",
    "    def __init__(self,name,size,breed,dob):\n",
    "        self.name=name\n",
    "        self.size=size\n",
    "        self.breed='unknown'\n",
    "        self.dob='unknown'\n",
    "    def bark(self):\n",
    "        print(\"woof!\")\n",
    "        \n",
    "    def get_name(self):\n",
    "        print(\"Name is \",self.name)\n",
    "    \n",
    "    def set_name(self):\n",
    "        n=input(\"Enter name: \")\n",
    "        self.name=n\n",
    "        \n",
    "a=Dog('Snoopy',44,'Golden Retriever','13/05/2000')\n",
    "print(a.bark())\n",
    "a.set_name()\n",
    "a.get_name()"
   ]
  },
  {
   "cell_type": "code",
   "execution_count": 5,
   "id": "47772ffb",
   "metadata": {},
   "outputs": [
    {
     "name": "stdout",
     "output_type": "stream",
     "text": [
      "Title is  The Fault In Our Stars\n",
      "Author is  John Green\n",
      "Genre is  Fiction\n",
      "Publication year is  2006\n",
      "\n",
      "\n",
      "Title is  The Darkest Minds\n",
      "Author is  Alexandra Bracken\n",
      "Genre is  Fiction\n",
      "Publication year is  2007\n"
     ]
    }
   ],
   "source": [
    "class Book:\n",
    "    def __init__(self,title,author,genre,publication_year):\n",
    "        self.title=title\n",
    "        self.author=author\n",
    "        self.genre=genre\n",
    "        self.publication_year=publication_year\n",
    "    def display_info(self):\n",
    "        print(\"Title is \",self.title)\n",
    "        print(\"Author is \", self.author)\n",
    "        print(\"Genre is \",self.genre)\n",
    "        print(\"Publication year is \",self.publication_year)  \n",
    "b=Book('The Fault In Our Stars','John Green','Fiction','2006')\n",
    "b.display_info()\n",
    "print(\"\\n\")\n",
    "c=Book('The Darkest Minds','Alexandra Bracken','Fiction','2007')\n",
    "c.display_info()"
   ]
  },
  {
   "cell_type": "code",
   "execution_count": 7,
   "id": "0360986b",
   "metadata": {},
   "outputs": [
    {
     "name": "stdout",
     "output_type": "stream",
     "text": [
      "Movie name is  3 Idiots\n",
      "Showtime is  5:00 pm\n",
      "Ticket price is  200\n",
      "Number of tickets available is  80\n",
      "Successfully booked\n",
      "Total cost is  800\n",
      "\n",
      "\n",
      "Movie name is  Babys day out\n",
      "Showtime is  8:00 pm\n",
      "Ticket price is  150\n",
      "Number of tickets available is  6\n",
      "That many tickets are not available\n"
     ]
    }
   ],
   "source": [
    "class MovieTicket:\n",
    "    def __init__(self,movie_name,show_time,ticket_price,no_of_tickets_available):\n",
    "        self.movie_name=movie_name\n",
    "        self.show_time=show_time\n",
    "        self.ticket_price=ticket_price\n",
    "        self.no_of_tickets_available=no_of_tickets_available\n",
    "    def Book_tickets(self,n):\n",
    "        if(n>self.no_of_tickets_available):\n",
    "            print('That many tickets are not available')\n",
    "        else:\n",
    "            self.no_of_tickets_available=self.no_of_tickets_available-n\n",
    "            print('Successfully booked')\n",
    "    def calculate_total_cost(self,n):\n",
    "        total=self.ticket_price*n\n",
    "        print('Total cost is ',total)\n",
    "    def Display_movie_info(self):\n",
    "        print(\"Movie name is \",self.movie_name)\n",
    "        print(\"Showtime is \", self.show_time)\n",
    "        print(\"Ticket price is \",self.ticket_price)\n",
    "        print(\"Number of tickets available is \",self.no_of_tickets_available)\n",
    "m=MovieTicket('3 Idiots','5:00 pm',200,80)\n",
    "m.Display_movie_info()\n",
    "m.Book_tickets(4)\n",
    "m.calculate_total_cost(4)\n",
    "print(\"\\n\")\n",
    "n=MovieTicket('Babys day out','8:00 pm',150,6)\n",
    "n.Display_movie_info()\n",
    "n.Book_tickets(7)\n",
    "\n"
   ]
  },
  {
   "cell_type": "code",
   "execution_count": 20,
   "id": "6b6c7b27",
   "metadata": {},
   "outputs": [
    {
     "name": "stdout",
     "output_type": "stream",
     "text": [
      "Movie name is  3 Idiots\n",
      "Showtime is  5:00 pm\n",
      "Ticket price is  200\n",
      "Number of tickets available is  80\n",
      "Total cost is  800\n",
      "Successfully booked\n",
      "\n",
      "\n",
      "Movie name is  Babys day out\n",
      "Showtime is  8:00 pm\n",
      "Ticket price is  150\n",
      "Number of tickets available is  6\n",
      "That many tickets are not available\n"
     ]
    }
   ],
   "source": [
    "class MovieTicket:\n",
    "    def __init__(self,movie_name,show_time,ticket_price,no_of_tickets_available):\n",
    "        self.movie_name=movie_name\n",
    "        self.show_time=show_time\n",
    "        self.ticket_price=ticket_price\n",
    "        self.no_of_tickets_available=no_of_tickets_available\n",
    "    def Book_tickets(self,n):\n",
    "        if(n>self.no_of_tickets_available):\n",
    "            print('That many tickets are not available')\n",
    "        else:\n",
    "            total=self.ticket_price*n\n",
    "            print('Total cost is ',total)\n",
    "            self.no_of_tickets_available=self.no_of_tickets_available-n\n",
    "            print('Successfully booked')\n",
    "    def Display_movie_info(self):\n",
    "        print(\"Movie name is \",self.movie_name)\n",
    "        print(\"Showtime is \", self.show_time)\n",
    "        print(\"Ticket price is \",self.ticket_price)\n",
    "        print(\"Number of tickets available is \",self.no_of_tickets_available)\n",
    "m=MovieTicket('3 Idiots','5:00 pm',200,80)\n",
    "m.Display_movie_info()\n",
    "m.Book_tickets(4)\n",
    "#m.calculate_total_cost(4)\n",
    "print(\"\\n\")\n",
    "n=MovieTicket('Babys day out','8:00 pm',150,6)\n",
    "n.Display_movie_info()\n",
    "n.Book_tickets(7)\n",
    "#n.calculate_total_cost(7)"
   ]
  },
  {
   "cell_type": "code",
   "execution_count": 26,
   "id": "f56cfacb",
   "metadata": {},
   "outputs": [
    {
     "name": "stdout",
     "output_type": "stream",
     "text": [
      "Name is  Ram\n",
      "Salary is  3400000\n"
     ]
    }
   ],
   "source": [
    "class Employee:\n",
    "    def __init__(self,name,salary):\n",
    "        self.name=name\n",
    "        self.__salary=salary\n",
    "    def work(self):\n",
    "        print('Software Developer')\n",
    "    def show(self):\n",
    "        print(\"Name is \",self.name)\n",
    "        print(\"Salary is \",self.__salary)\n",
    "e=Employee('Ram',3400000) \n",
    "e.show()"
   ]
  },
  {
   "cell_type": "code",
   "execution_count": 21,
   "id": "b5e83da4",
   "metadata": {},
   "outputs": [
    {
     "name": "stdout",
     "output_type": "stream",
     "text": [
      "Balance is  249800\n",
      "Balance is  250800\n"
     ]
    }
   ],
   "source": [
    "class CreditCard:\n",
    "    def __init__(self,limit,balance):\n",
    "        self.__limit=limit\n",
    "        self._balance=balance\n",
    "    def withdraw(self,amt): \n",
    "        if self._balance>amt:\n",
    "             self._balance= self._balance-amt\n",
    "        else:\n",
    "            print('Insufficient balance')\n",
    "    def  deposit(self,amt):\n",
    "        self._balance= self._balance+amt\n",
    "    def get_balance(self):\n",
    "        print(\"Balance is \",self._balance)\n",
    "c=CreditCard(1000,250000)  \n",
    "c.withdraw(200) \n",
    "c.get_balance()\n",
    "c.deposit(1000)\n",
    "c.get_balance()"
   ]
  },
  {
   "cell_type": "code",
   "execution_count": 34,
   "id": "ec62d033",
   "metadata": {},
   "outputs": [
    {
     "name": "stdout",
     "output_type": "stream",
     "text": [
      "Product ID is  1P21234\n",
      "Product name is  Race bike\n",
      "Product price is  600\n",
      "Price after discount is  540.0\n",
      "It is not expensive\n",
      "\n",
      "\n",
      "Product ID is  1P21235\n",
      "Product name is  Car\n",
      "Product price is  2000000000\n",
      "It is expensive\n"
     ]
    }
   ],
   "source": [
    "class Product:\n",
    "    def __init__(self,product_id,product_name,product_price):\n",
    "        self.product_id=product_id\n",
    "        self.product_name=product_name\n",
    "        self.product_price=product_price\n",
    "    def apply_discount(self,p):\n",
    "        self.product_price=self.product_price-((p/100)*self.product_price)\n",
    "        print('Price after discount is ',self.product_price)\n",
    "    def is_expensive(self):\n",
    "        if(self.product_price>100000):\n",
    "            print('It is expensive')\n",
    "        else:\n",
    "            print('It is not expensive')\n",
    "    def display_prod_info(self):\n",
    "        print('Product ID is ',self.product_id)\n",
    "        print('Product name is ',self.product_name)\n",
    "        print('Product price is ',self.product_price)\n",
    "p=Product('1P21234','Race bike',600)\n",
    "p.display_prod_info()\n",
    "p.apply_discount(10)\n",
    "p.is_expensive()\n",
    "\n",
    "print('\\n')\n",
    "q=Product('1P21235','Car',2000000000)\n",
    "q.display_prod_info()\n",
    "q.is_expensive()\n"
   ]
  },
  {
   "cell_type": "code",
   "execution_count": 1,
   "id": "6e3880b1",
   "metadata": {},
   "outputs": [
    {
     "name": "stdout",
     "output_type": "stream",
     "text": [
      "The mileage is 30kmph\n",
      "The mileage is 27kmph\n"
     ]
    }
   ],
   "source": [
    "from abc import ABC,abstractmethod\n",
    "class Car(ABC):\n",
    "    def mileage(self):\n",
    "        pass\n",
    "class Tesla(Car):\n",
    "    def mileage(self):\n",
    "        print(\"The mileage is 30kmph\")\n",
    "class Suzuki(Car):\n",
    "    def mileage(self):\n",
    "        print(\"The mileage is 25kmph\")\n",
    "class Duster(Car):\n",
    "    def mileage(self):\n",
    "        print(\"The mileage is 24kmph\") \n",
    "class Renault(Car):\n",
    "    def mileage(self):\n",
    "        print(\"The mileage is 27kmph\")        \n",
    "        \n",
    "t=Tesla()\n",
    "t.mileage()\n",
    "r=Renault()\n",
    "r.mileage()\n",
    "        "
   ]
  },
  {
   "cell_type": "code",
   "execution_count": 7,
   "id": "a59a3818",
   "metadata": {},
   "outputs": [
    {
     "name": "stdout",
     "output_type": "stream",
     "text": [
      "Area of circle is  28.259999999999998\n",
      "Perimeter of circle is  18.84\n",
      "_______________________________\n",
      "Area of triangle is  7.5\n",
      "Perimeter of triangle is  12\n",
      "_______________________________\n"
     ]
    }
   ],
   "source": [
    "from abc import ABC,abstractmethod\n",
    "class Shape(ABC):\n",
    "    def area(self):\n",
    "        pass\n",
    "    def perimeter(self):\n",
    "        pass\n",
    "class Circle(Shape):\n",
    "    def __init__(self,r):\n",
    "        self.r=r\n",
    "    def area(self):\n",
    "        return 3.14*self.r*self.r\n",
    "    def perimeter(self): \n",
    "        return 2*3.14*self.r\n",
    "class Rectangle(Shape):\n",
    "    def __init__(self,l,b):\n",
    "        self.l=l\n",
    "        self.b=b\n",
    "    def area(self):\n",
    "        return self.l*self.b\n",
    "    def perimeter(self): \n",
    "        return 2*(self.l+self.b)    \n",
    "class Triangle(Shape):\n",
    "    def __init__(self,a,b,c):\n",
    "        self.a=a\n",
    "        self.b=b\n",
    "        self.c=c\n",
    "    def area(self):\n",
    "        return 0.5*self.b*self.c\n",
    "    def perimeter(self): \n",
    "        return self.a+self.b+self.c        \n",
    "    \n",
    "c=Circle(3)  \n",
    "ca=c.area()\n",
    "cp=c.perimeter()\n",
    "print(\"Area of circle is \",ca)\n",
    "print(\"Perimeter of circle is \",cp)\n",
    "print(\"_______________________________\")\n",
    "t=Triangle(4,3,5)\n",
    "ta=t.area()\n",
    "tp=t.perimeter()\n",
    "print(\"Area of triangle is \",ta)\n",
    "print(\"Perimeter of triangle is \",tp)\n",
    "print(\"_______________________________\")"
   ]
  },
  {
   "cell_type": "code",
   "execution_count": 9,
   "id": "52ffbefe",
   "metadata": {},
   "outputs": [
    {
     "name": "stdout",
     "output_type": "stream",
     "text": [
      "\n",
      "Name is  Babys Day Out\n",
      "Duration is  1 hour 30 mins\n",
      "Available ? Yes\n",
      "\n",
      "Name is  Ram\n",
      "Age is  35\n",
      "Gender is  M\n",
      "Salary is  35000\n"
     ]
    }
   ],
   "source": [
    "from abc import ABC,abstractmethod\n",
    "class LibraryItem(ABC):\n",
    "    def display(self):\n",
    "        pass\n",
    "class LibraryMember(ABC):\n",
    "    def display(self):\n",
    "        pass     \n",
    "class books(LibraryItem):\n",
    "    def __init__(self,title,author,genre,publicationyear,available):\n",
    "        self.title=title\n",
    "        self.author=author\n",
    "        self.genre=genre\n",
    "        self.publicationyear=publicationyear\n",
    "        self.available=available\n",
    "    def display(self):\n",
    "        print(\"\\nTitle is \",self.title)\n",
    "        print(\"Author is\",self.author)\n",
    "        print(\"Genre is\",self.genre)\n",
    "        print(\"Publication year is\",self.publicationyear)\n",
    "        print(\"Available ?\",self.available)\n",
    "    \n",
    "class DVDs(LibraryItem): \n",
    "    def __init__(self,name,duration,available):\n",
    "        self.name=name\n",
    "        self.duration=duration\n",
    "        self.available=available\n",
    "    def display(self):\n",
    "        print(\"\\nName is \",self.name)\n",
    "        print(\"Duration is \",self.duration)\n",
    "        print(\"Available ?\",self.available)\n",
    "class libmembers(LibraryMember):\n",
    "    def __init__(self,name,age,gender,salary):\n",
    "        self.name=name\n",
    "        self.age=age\n",
    "        self.gender=gender\n",
    "        self.salary=salary\n",
    "    def display(self):\n",
    "        print(\"\\nName is \",self.name)\n",
    "        print(\"Age is \",self.age)\n",
    "        print(\"Gender is \",self.gender)    \n",
    "        print(\"Salary is \",self.salary)\n",
    "d=DVDs('Babys Day Out','1 hour 30 mins','Yes')    \n",
    "d.display()\n",
    "lm=libmembers('Ram',35,'M',35000)\n",
    "lm.display()"
   ]
  },
  {
   "cell_type": "code",
   "execution_count": 11,
   "id": "940b67a9",
   "metadata": {},
   "outputs": [
    {
     "name": "stdout",
     "output_type": "stream",
     "text": [
      "\n",
      "Type is  Cargo\n",
      "Quantity  3\n",
      "Price is 1200\n"
     ]
    }
   ],
   "source": [
    "from abc import ABC,abstractmethod\n",
    "class Cart(ABC):\n",
    "    def display(self):\n",
    "        pass\n",
    "class Product(ABC):\n",
    "    def display(self):\n",
    "        pass     \n",
    "class producttypes(Product):\n",
    "    def __init__(self,ptype,qty,price):\n",
    "        self.ptype=ptype\n",
    "        self.qty=qty\n",
    "        self.price=price\n",
    "    def display(self):\n",
    "        print(\"\\nType is \",self.ptype)\n",
    "        print(\"Quantity \",self.qty)\n",
    "        print(\"Price is\",self.price)\n",
    "\n",
    "c=producttypes('Cargo',3,1200)\n",
    "c.display()"
   ]
  },
  {
   "cell_type": "code",
   "execution_count": 1,
   "id": "5cfc71cd",
   "metadata": {},
   "outputs": [
    {
     "name": "stdout",
     "output_type": "stream",
     "text": [
      "Father's Age: 50, Son's Age: 20\n"
     ]
    }
   ],
   "source": [
    "class WrongAge(Exception):\n",
    "    def __init__(self, message=\"Age cannot be less than 0\"):\n",
    "        self.message = message\n",
    "        super().__init__(self.message)\n",
    "\n",
    "\n",
    "class AgeInvalid(Exception):\n",
    "    def __init__(self, message=\"Son's age cannot be >= Father's age\"):\n",
    "        self.message = message\n",
    "        super().__init__(self.message)\n",
    "\n",
    "\n",
    "class Father:\n",
    "    def __init__(self, age):\n",
    "        if age < 0:\n",
    "            raise WrongAge(\"Father's age is invalid. Age cannot be less than 0.\")\n",
    "        self.age = age\n",
    "\n",
    "\n",
    "class Son(Father):\n",
    "    def __init__(self, father_age, son_age):\n",
    "        super().__init__(father_age)\n",
    "        if son_age >= father_age:\n",
    "            raise AgeInvalid(\"Invalid ages. Son's age cannot be >= Father's age.\")\n",
    "        self.son_age = son_age\n",
    "\n",
    "try:\n",
    "    father_age = 50\n",
    "    son_age = 20\n",
    "    family = Son(father_age, son_age)\n",
    "    print(f\"Father's Age: {family.age}, Son's Age: {family.son_age}\")\n",
    "except (WrongAge, AgeInvalid) as e:\n",
    "    print(e)"
   ]
  },
  {
   "cell_type": "code",
   "execution_count": 2,
   "id": "f865f83c",
   "metadata": {},
   "outputs": [
    {
     "name": "stdout",
     "output_type": "stream",
     "text": [
      "Enter a formula (e.g., 1 + 1) or type 'quit' to exit: 2+4\n",
      "Error: Invalid number format. Please enter valid numbers.\n",
      "Enter a formula (e.g., 1 + 1) or type 'quit' to exit: 2 + 4\n",
      "Result: 6.0\n",
      "Enter a formula (e.g., 1 + 1) or type 'quit' to exit: quit\n"
     ]
    }
   ],
   "source": [
    "class FormulaError(Exception):\n",
    "    pass\n",
    "\n",
    "def calculate(formula):\n",
    "    try:\n",
    "        num1, operator, num2 = formula.split()\n",
    "        num1 = float(num1)\n",
    "        num2 = float(num2)\n",
    "\n",
    "        if operator not in ('+', '-'):\n",
    "            raise FormulaError(\"Invalid operator. Please use '+' or '-'.\")\n",
    "\n",
    "        if operator == '+':\n",
    "            result = num1 + num2\n",
    "        else:\n",
    "            result = num1 - num2\n",
    "\n",
    "        print(f\"Result: {result}\")\n",
    "\n",
    "    except ValueError:\n",
    "        raise FormulaError(\"Invalid number format. Please enter valid numbers.\")\n",
    "    except FormulaError as fe:\n",
    "        raise fe\n",
    "\n",
    "while True:\n",
    "    user_input = input(\"Enter a formula (e.g., 1 + 1) or type 'quit' to exit: \")\n",
    "\n",
    "    if user_input.lower() == 'quit':\n",
    "        break\n",
    "\n",
    "    try:\n",
    "        calculate(user_input)\n",
    "    except FormulaError as fe:\n",
    "        print(f\"Error: {fe}\")"
   ]
  },
  {
   "cell_type": "code",
   "execution_count": 1,
   "id": "53ed3304",
   "metadata": {},
   "outputs": [
    {
     "name": "stdout",
     "output_type": "stream",
     "text": [
      "Cube: 25 * 25 * 25 = 15625\n",
      "Cube: 79 * 79 * 79 = 493039\n",
      "Cube: 75 * 75 * 75 = 421875\n",
      "Square: 46 * 46 = 2116\n",
      "Square: 88 * 88 = 7744\n",
      "Square: 100 * 100 = 10000\n",
      "Square: 100 * 100 = 10000\n",
      "Square: 70 * 70 = 4900\n",
      "Square: 84 * 84 = 7056\n",
      "Cube: 93 * 93 * 93 = 804357\n",
      "Square: 42 * 42 = 1764\n",
      "Square: 42 * 42 = 1764\n",
      "Cube: 53 * 53 * 53 = 148877\n",
      "Keyboard interrupt received. Stopping threads...\n"
     ]
    }
   ],
   "source": [
    "import threading\n",
    "import random\n",
    "import time\n",
    "\n",
    "shared_data = {\"value\": None}\n",
    "\n",
    "lock = threading.Lock()\n",
    "\n",
    "stop_threads = False\n",
    "\n",
    "def generate_random():\n",
    "    global shared_data, stop_threads\n",
    "    while not stop_threads:\n",
    "        with lock:\n",
    "            shared_data[\"value\"] = random.randint(1, 100)\n",
    "        time.sleep(1)\n",
    "\n",
    "def compute_square():\n",
    "    global shared_data, stop_threads\n",
    "    while not stop_threads:\n",
    "        with lock:\n",
    "            value = shared_data[\"value\"]\n",
    "        if value is not None and value % 2 == 0:\n",
    "            with lock:\n",
    "                print(f\"Square: {value} * {value} = {value**2}\")\n",
    "        time.sleep(1)\n",
    "\n",
    "def print_cube():\n",
    "    global shared_data, stop_threads\n",
    "    while not stop_threads:\n",
    "        with lock:\n",
    "            value = shared_data[\"value\"]\n",
    "        if value is not None and value % 2 != 0:\n",
    "            with lock:\n",
    "                print(f\"Cube: {value} * {value} * {value} = {value**3}\")\n",
    "        time.sleep(1)\n",
    "\n",
    "if __name__ == \"__main__\":\n",
    "    try:\n",
    "       \n",
    "        thread1 = threading.Thread(target=generate_random)\n",
    "        thread2 = threading.Thread(target=compute_square)\n",
    "        thread3 = threading.Thread(target=print_cube)\n",
    "\n",
    "        thread1.start()\n",
    "        thread2.start()\n",
    "        thread3.start()\n",
    "\n",
    "     \n",
    "        while True:\n",
    "            time.sleep(1)\n",
    "\n",
    "    except KeyboardInterrupt:\n",
    "        print(\"Keyboard interrupt received. Stopping threads...\")\n",
    "        stop_threads = True\n",
    "        thread1.join()\n",
    "        thread2.joinh()\n",
    "        thread3.join()\n",
    "\n"
   ]
  },
  {
   "cell_type": "code",
   "execution_count": 2,
   "id": "76b6ed7f",
   "metadata": {},
   "outputs": [
    {
     "name": "stdout",
     "output_type": "stream",
     "text": [
      "Farmer produced Vegetable-3\n",
      "Consumer-4 bought Vegetable-3\n",
      "Consumer-6 is waiting for vegetables\n",
      "Consumer-7 is waiting for vegetables\n",
      "Farmer produced Vegetable-2\n",
      "Consumer-1 bought Vegetable-2\n",
      "Consumer-2 is waiting for vegetables\n",
      "Consumer-3 is waiting for vegetables\n",
      "Consumer-4 is waiting for vegetables\n",
      "Consumer-5 is waiting for vegetables\n",
      "Consumer-6 is waiting for vegetables\n",
      "Consumer-7 is waiting for vegetables\n",
      "Consumer-2 is waiting for vegetables\n",
      "Consumer-8 is waiting for vegetables\n",
      "Consumer-9 is waiting for vegetables\n",
      "Consumer-10 is waiting for vegetables\n",
      "Consumer-1 is waiting for vegetables\n",
      "Consumer-3 is waiting for vegetables\n",
      "Consumer-9 is waiting for vegetables\n",
      "Consumer-10 is waiting for vegetables\n",
      "Consumer-6 is waiting for vegetables\n",
      "Consumer-8 is waiting for vegetables\n",
      "Farmer produced Vegetable-2\n",
      "Consumer-10 bought Vegetable-2\n",
      "Consumer-8 is waiting for vegetables\n",
      "Consumer-4 is waiting for vegetables\n",
      "Consumer-9 is waiting for vegetables\n",
      "Consumer-4 is waiting for vegetables\n",
      "Consumer-5 is waiting for vegetables\n",
      "Consumer-3 is waiting for vegetables\n",
      "Consumer-7 is waiting for vegetables\n",
      "Consumer-9 is waiting for vegetables\n",
      "Farmer produced Vegetable-1\n",
      "Consumer-1 bought Vegetable-1\n",
      "Consumer-2 is waiting for vegetables\n",
      "Consumer-6 is waiting for vegetables\n",
      "Consumer-2 is waiting for vegetables\n",
      "Consumer-7 is waiting for vegetables\n",
      "Consumer-1 is waiting for vegetables\n",
      "Consumer-3 is waiting for vegetables\n",
      "Consumer-10 is waiting for vegetables\n",
      "Consumer-5 is waiting for vegetables\n",
      "Consumer-6 is waiting for vegetables\n",
      "Farmer produced Vegetable-2\n",
      "Consumer-10 bought Vegetable-2\n",
      "Consumer-3 is waiting for vegetables\n",
      "Consumer-7 is waiting for vegetables\n",
      "Consumer-8 is waiting for vegetables\n",
      "Consumer-6 is waiting for vegetables\n",
      "Consumer-1 is waiting for vegetables\n",
      "Farmer produced Vegetable-3\n",
      "Consumer-9 bought Vegetable-3\n",
      "Farmer produced Vegetable-2\n",
      "Consumer-2 bought Vegetable-2\n",
      "Consumer-8 is waiting for vegetables\n",
      "Consumer-5 is waiting for vegetables\n",
      "Consumer-4 is waiting for vegetables\n",
      "Consumer-2 is waiting for vegetables\n",
      "Consumer-6 is waiting for vegetables\n",
      "Consumer-1 is waiting for vegetables\n",
      "Consumer-9 is waiting for vegetables\n",
      "Consumer-3 is waiting for vegetables\n",
      "Consumer-4 is waiting for vegetables\n",
      "Consumer-5 is waiting for vegetables\n",
      "Farmer produced Vegetable-1\n",
      "Consumer-7 bought Vegetable-1\n",
      "Consumer-10 is waiting for vegetables\n",
      "Consumer-7 is waiting for vegetables\n",
      "Farmer produced Vegetable-2\n",
      "Consumer-10 bought Vegetable-2\n",
      "Consumer-5 is waiting for vegetables\n",
      "Consumer-6 is waiting for vegetables\n",
      "Consumer-3 is waiting for vegetables\n",
      "Consumer-3 is waiting for vegetables\n",
      "Farmer produced Vegetable-3\n",
      "Consumer-6 bought Vegetable-3\n",
      "Consumer-4 is waiting for vegetables\n",
      "Consumer-9 is waiting for vegetables\n",
      "Consumer-8 is waiting for vegetables\n",
      "Consumer-1 is waiting for vegetables\n",
      "Consumer-8 is waiting for vegetables\n",
      "Consumer-7 is waiting for vegetables\n",
      "Consumer-2 is waiting for vegetables\n",
      "Consumer-2 is waiting for vegetables\n",
      "Consumer-9 is waiting for vegetables\n",
      "Consumer-7 is waiting for vegetables\n",
      "Farmer produced Vegetable-3\n",
      "Consumer-1 bought Vegetable-3\n",
      "Consumer-5 is waiting for vegetables\n",
      "Consumer-4 is waiting for vegetables\n",
      "Farmer produced Vegetable-1\n",
      "Consumer-6 bought Vegetable-1\n",
      "Consumer-10 is waiting for vegetables\n",
      "Consumer-3 is waiting for vegetables\n",
      "Consumer-10 is waiting for vegetables\n",
      "Consumer-3 is waiting for vegetables\n",
      "Consumer-9 is waiting for vegetables\n",
      "Consumer-5 is waiting for vegetables\n",
      "Consumer-8 is waiting for vegetables\n",
      "Farmer produced Vegetable-1\n",
      "Farmer produced Vegetable-2\n",
      "Consumer-4 bought Vegetable-1\n",
      "Consumer-9 bought Vegetable-2\n",
      "Consumer-6 is waiting for vegetables\n",
      "Consumer-2 is waiting for vegetables\n",
      "Consumer-7 is waiting for vegetables\n",
      "Consumer-1 is waiting for vegetables\n",
      "Consumer-1 is waiting for vegetables\n",
      "Consumer-8 is waiting for vegetables\n",
      "Consumer-7 is waiting for vegetables\n",
      "Consumer-6 is waiting for vegetables\n",
      "Consumer-2 is waiting for vegetables\n",
      "Consumer-4 is waiting for vegetables\n",
      "Consumer-3 is waiting for vegetables\n",
      "Consumer-3 is waiting for vegetables\n",
      "Consumer-5 is waiting for vegetables\n",
      "Consumer-10 is waiting for vegetables\n",
      "Farmer produced Vegetable-2\n",
      "Consumer-8 bought Vegetable-2\n",
      "Farmer produced Vegetable-1\n",
      "Consumer-4 bought Vegetable-1\n",
      "Consumer-10 is waiting for vegetables\n",
      "Consumer-9 is waiting for vegetables\n",
      "Consumer-9 is waiting for vegetables\n",
      "Consumer-2 is waiting for vegetables\n",
      "Consumer-5 is waiting for vegetables\n",
      "Consumer-7 is waiting for vegetables\n",
      "Consumer-6 is waiting for vegetables\n",
      "Consumer-4 is waiting for vegetables\n",
      "Farmer produced Vegetable-3\n",
      "Consumer-1 bought Vegetable-3\n",
      "Consumer-7 is waiting for vegetables\n",
      "Consumer-3 is waiting for vegetables\n",
      "Consumer-2 is waiting for vegetables\n",
      "Farmer produced Vegetable-2\n",
      "Consumer-1 bought Vegetable-2\n",
      "Consumer-6 is waiting for vegetables\n",
      "Consumer-5 is waiting for vegetables\n",
      "Consumer-8 is waiting for vegetables\n",
      "Consumer-3 is waiting for vegetables\n",
      "Consumer-8 is waiting for vegetables\n",
      "Consumer-7 is waiting for vegetables\n",
      "Consumer-5 is waiting for vegetables\n",
      "Farmer produced Vegetable-1\n",
      "Consumer-6 bought Vegetable-1\n",
      "Consumer-7 is waiting for vegetables\n",
      "Consumer-10 is waiting for vegetables\n",
      "Consumer-2 is waiting for vegetables\n",
      "Consumer-4 is waiting for vegetables\n",
      "Consumer-9 is waiting for vegetables\n",
      "Farmer produced Vegetable-3\n",
      "Consumer-4 bought Vegetable-3\n",
      "Consumer-9 is waiting for vegetables\n",
      "Consumer-10 is waiting for vegetables\n",
      "Farmer produced Vegetable-1\n",
      "Consumer-2 bought Vegetable-1\n",
      "Consumer-5 is waiting for vegetables\n",
      "Consumer-1 is waiting for vegetables\n",
      "Consumer-6 is waiting for vegetables\n",
      "Consumer-3 is waiting for vegetables\n"
     ]
    },
    {
     "ename": "KeyboardInterrupt",
     "evalue": "",
     "output_type": "error",
     "traceback": [
      "\u001b[1;31m---------------------------------------------------------------------------\u001b[0m",
      "\u001b[1;31mKeyboardInterrupt\u001b[0m                         Traceback (most recent call last)",
      "Input \u001b[1;32mIn [2]\u001b[0m, in \u001b[0;36m<cell line: 51>\u001b[1;34m()\u001b[0m\n\u001b[0;32m     48\u001b[0m     thread\u001b[38;5;241m.\u001b[39mstart()\n\u001b[0;32m     50\u001b[0m \u001b[38;5;66;03m# Run the simulation for a specific duration (e.g., 10 seconds)\u001b[39;00m\n\u001b[1;32m---> 51\u001b[0m \u001b[43mtime\u001b[49m\u001b[38;5;241;43m.\u001b[39;49m\u001b[43msleep\u001b[49m\u001b[43m(\u001b[49m\u001b[38;5;241;43m10\u001b[39;49m\u001b[43m)\u001b[49m\n\u001b[0;32m     53\u001b[0m \u001b[38;5;66;03m# Set exit signal to stop the threads\u001b[39;00m\n\u001b[0;32m     54\u001b[0m exit_signal\u001b[38;5;241m.\u001b[39mset()\n",
      "\u001b[1;31mKeyboardInterrupt\u001b[0m: "
     ]
    }
   ],
   "source": [
    "import threading\n",
    "import time\n",
    "import queue\n",
    "import random\n",
    "\n",
    "MARKET_CAPACITY = 5\n",
    "NUM_VEGETABLE_TYPES = 3\n",
    "NUM_CONSUMERS = 10\n",
    "\n",
    "market_queue = queue.Queue(maxsize=MARKET_CAPACITY)\n",
    "vegetable_types = [f\"Vegetable-{i+1}\" for i in range(NUM_VEGETABLE_TYPES)]\n",
    "exit_signal = threading.Event()\n",
    "\n",
    "lock = threading.Lock()\n",
    "\n",
    "def produce_vegetables():\n",
    "    global market_queue\n",
    "    while not exit_signal.is_set():\n",
    "        vegetable_type = random.choice(vegetable_types)\n",
    "        with lock:\n",
    "            market_queue.put(vegetable_type)\n",
    "            print(f\"Farmer produced {vegetable_type}\")\n",
    "        time.sleep(random.uniform(0.5, 1.5))\n",
    "\n",
    "\n",
    "def buy_vegetables(consumer_id):\n",
    "    global market_queue\n",
    "    while not exit_signal.is_set():\n",
    "        with lock:\n",
    "            if not market_queue.empty():\n",
    "                vegetable_type = market_queue.get()\n",
    "                print(f\"Consumer-{consumer_id} bought {vegetable_type}\")\n",
    "            else:\n",
    "                print(f\"Consumer-{consumer_id} is waiting for vegetables\")\n",
    "        time.sleep(random.uniform(1, 2))\n",
    "\n",
    "\n",
    "farmer_thread = threading.Thread(target=produce_vegetables)\n",
    "farmer_thread.start()\n",
    "\n",
    "\n",
    "consumer_threads = [threading.Thread(target=buy_vegetables, args=(i+1,)) for i in range(NUM_CONSUMERS)]\n",
    "for thread in consumer_threads:\n",
    "    thread.start()\n",
    "\n",
    "\n",
    "time.sleep(10)\n",
    "\n",
    "\n",
    "exit_signal.set()\n",
    "\n",
    "farmer_thread.join()\n",
    "for thread in consumer_threads:\n",
    "    thread.join()"
   ]
  },
  {
   "cell_type": "code",
   "execution_count": null,
   "id": "9e786711",
   "metadata": {},
   "outputs": [],
   "source": []
  },
  {
   "cell_type": "code",
   "execution_count": 1,
   "id": "fc024961",
   "metadata": {},
   "outputs": [
    {
     "name": "stdout",
     "output_type": "stream",
     "text": [
      "1 A 2 B 3 C 4 D 5 E \n",
      "Program terminated.\n"
     ]
    }
   ],
   "source": [
    "import threading\n",
    "import time\n",
    "\n",
   
    "semaphore = threading.Semaphore(1)\n",
    "\n",
   
    "def function_A():\n",
    "    for i in range(1, 6):\n",
    "        with semaphore:\n",
    "            print(i, end=' ')\n",
    "            time.sleep(0.5)  # Simulate time-consuming task\n",
    "        time.sleep(0.1)  # Sleep to allow other thread to execute\n",
    "\n",
   
    "def function_B():\n",
    "    for char in 'ABCDE':\n",
    "        with semaphore:\n",
    "            print(char, end=' ')\n",
    "            time.sleep(0.5)  # Simulate time-consuming task\n",
    "        time.sleep(0.1)  # Sleep to allow other thread to execute\n",
    "\n",
    "if __name__ == \"__main__\":\n",
 
    "    thread_A = threading.Thread(target=function_A)\n",
    "    thread_B = threading.Thread(target=function_B)\n",
    "\n",
  
    "    thread_A.start()\n",
    "    thread_B.start()\n",
    "\n",
   
    "    thread_A.join()\n",
    "    thread_B.join()\n",
    "\n",
    "    print(\"\\nProgram terminated.\")\n"
   ]
  },
  {
   "cell_type": "code",
   "execution_count": null,
   "id": "cbcdc05e",
   "metadata": {},
   "outputs": [],
   "source": []
  }
 ],
 "metadata": {
  "kernelspec": {
   "display_name": "Python 3 (ipykernel)",
   "language": "python",
   "name": "python3"
  },
  "language_info": {
   "codemirror_mode": {
    "name": "ipython",
    "version": 3
   },
   "file_extension": ".py",
   "mimetype": "text/x-python",
   "name": "python",
   "nbconvert_exporter": "python",
   "pygments_lexer": "ipython3",
   "version": "3.9.12"
  }
 },
 "nbformat": 4,
 "nbformat_minor": 5
}
