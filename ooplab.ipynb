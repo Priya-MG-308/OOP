{
 "cells": [
  {
   "cell_type": "code",
   "execution_count": 9,
   "id": "c3ba94e8",
   "metadata": {},
   "outputs": [
    {
     "name": "stdout",
     "output_type": "stream",
     "text": [
      "Name is  Ram \n",
      "Age is  34 \n",
      "Salary is  1000000\n"
     ]
    }
   ],
   "source": [
    "class Employee:\n",
    "    def __init__(self,name,age,salary):\n",
    "        self.name=name\n",
    "        self.age=age\n",
    "        self.salary=salary\n",
    "    def details(self):\n",
    "        print(\"Name is \",self.name,\"\\nAge is \",self.age,\"\\nSalary is \",self.salary)\n",
    "        \n",
    "a=Employee(\"Ram\",34,1000000)\n",
    "\n",
    "a.details()"
   ]
  },
  {
   "cell_type": "code",
   "execution_count": 10,
   "id": "92042005",
   "metadata": {},
   "outputs": [
    {
     "name": "stdout",
     "output_type": "stream",
     "text": [
      "Ram 34 A\n"
     ]
    }
   ],
   "source": [
    "class Student:\n",
    "    def __init__(self):\n",
    "        self.name=\"Ram\"\n",
    "        self.age=34\n",
    "        self.grade=\"A\"\n",
    "a=Student()\n",
    "print(a.name,a.age,a.grade)"
   ]
  },
  {
   "cell_type": "code",
   "execution_count": 11,
   "id": "c66f0530",
   "metadata": {},
   "outputs": [
    {
     "name": "stdout",
     "output_type": "stream",
     "text": [
      "Length is  3 \n",
      "Breadth is  4\n"
     ]
    }
   ],
   "source": [
    "class Employee:\n",
    "    def __init__(self,length,breadth):\n",
    "        self.length=length\n",
    "        self.breadth=breadth\n",
    "    def details(self):\n",
    "        print(\"Length is \",self.length,\"\\nBreadth is \",self.breadth)   \n",
    "        \n",
    "a=Employee(3,4)\n",
    "\n",
    "a.details()"
   ]
  },
  {
   "cell_type": "code",
   "execution_count": 4,
   "id": "d7648959",
   "metadata": {},
   "outputs": [
    {
     "name": "stdout",
     "output_type": "stream",
     "text": [
      "\n",
      "----------------------\n",
      "Name is  Ram \n",
      "\n",
      "Age was  4\n",
      "It became  5\n",
      "\n",
      "----------------------\n",
      "Name is  Shyam \n",
      "\n",
      "Age was  7\n",
      "It became  8\n"
     ]
    }
   ],
   "source": [
    "class birthdayboy:\n",
    "    def __init__(self,name,age):\n",
    "        self.name=name\n",
    "        self.age=age\n",
    "    def birthday(self):\n",
    "        print(\"\\n----------------------\\nName is \",self.name,\"\\n\\nAge was \",self.age)   \n",
    "        self.age=self.age+1\n",
    "        print(\"It became \",self.age) \n",
    "        \n",
    "        \n",
    "a=birthdayboy(\"Ram\",4)\n",
    "a.birthday()\n",
    "\n",
    "b=birthdayboy(\"Shyam\",7)\n",
    "b.birthday()"
   ]
  },
  {
   "cell_type": "code",
   "execution_count": 12,
   "id": "a71cb4c1",
   "metadata": {},
   "outputs": [
    {
     "name": "stdout",
     "output_type": "stream",
     "text": [
      "Whenever, wherever\n",
      "We are meant to be together\n",
      "I will be there and you will be near\n",
      "Thats the deal my dear.\n"
     ]
    }
   ],
   "source": [
    "class Songs:\n",
    "    def __init__(self,lyrics):\n",
    "        self.lyrics=lyrics\n",
    "    def sing_me_a_song(self):\n",
    "        for i in self.lyrics:\n",
    "            print(i)\n",
    "song=['Whenever, wherever','We are meant to be together','I will be there and you will be near','Thats the deal my dear.']  \n",
    "a=Songs(song)\n",
    "a.sing_me_a_song()"
   ]
  },
  {
   "cell_type": "code",
   "execution_count": 13,
   "id": "757dcbf0",
   "metadata": {},
   "outputs": [
    {
     "name": "stdout",
     "output_type": "stream",
     "text": [
      "Area is :  506\n"
     ]
    }
   ],
   "source": [
    "class room:\n",
    "    def __init__(self,l,b):\n",
    "        self.l=l\n",
    "        self.b=b\n",
    "    def area(self):\n",
    "        print(\"Area is : \",self.l*self.b)\n",
    "r=room(22,23)\n",
    "r.area()"
   ]
  },
  {
   "cell_type": "code",
   "execution_count": 14,
   "id": "f95685d7",
   "metadata": {},
   "outputs": [
    {
     "name": "stdout",
     "output_type": "stream",
     "text": [
      "woof!\n",
      "None\n",
      "Enter name: Jackuu\n",
      "Name is  Jackuu\n"
     ]
    }
   ],
   "source": [
    "class Dog:\n",
    "    def __init__(self,name,size,breed,dob):\n",
    "        self.name=name\n",
    "        self.size=size\n",
    "        self.breed='unknown'\n",
    "        self.dob='unknown'\n",
    "    def bark(self):\n",
    "        print(\"woof!\")\n",
    "        \n",
    "    def get_name(self):\n",
    "        print(\"Name is \",self.name)\n",
    "    \n",
    "    def set_name(self):\n",
    "        n=input(\"Enter name: \")\n",
    "        self.name=n\n",
    "        \n",
    "a=Dog('Snoopy',44,'Golden Retriever','13/05/2000')\n",
    "print(a.bark())\n",
    "a.set_name()\n",
    "a.get_name()"
   ]
  },
  {
   "cell_type": "code",
   "execution_count": 5,
   "id": "47772ffb",
   "metadata": {},
   "outputs": [
    {
     "name": "stdout",
     "output_type": "stream",
     "text": [
      "Title is  The Fault In Our Stars\n",
      "Author is  John Green\n",
      "Genre is  Fiction\n",
      "Publication year is  2006\n",
      "\n",
      "\n",
      "Title is  The Darkest Minds\n",
      "Author is  Alexandra Bracken\n",
      "Genre is  Fiction\n",
      "Publication year is  2007\n"
     ]
    }
   ],
   "source": [
    "class Book:\n",
    "    def __init__(self,title,author,genre,publication_year):\n",
    "        self.title=title\n",
    "        self.author=author\n",
    "        self.genre=genre\n",
    "        self.publication_year=publication_year\n",
    "    def display_info(self):\n",
    "        print(\"Title is \",self.title)\n",
    "        print(\"Author is \", self.author)\n",
    "        print(\"Genre is \",self.genre)\n",
    "        print(\"Publication year is \",self.publication_year)  \n",
    "b=Book('The Fault In Our Stars','John Green','Fiction','2006')\n",
    "b.display_info()\n",
    "print(\"\\n\")\n",
    "c=Book('The Darkest Minds','Alexandra Bracken','Fiction','2007')\n",
    "c.display_info()"
   ]
  },
  {
   "cell_type": "code",
   "execution_count": 7,
   "id": "e1612871",
   "metadata": {},
   "outputs": [
    {
     "name": "stdout",
     "output_type": "stream",
     "text": [
      "Movie name is  3 Idiots\n",
      "Showtime is  5:00 pm\n",
      "Ticket price is  200\n",
      "Number of tickets available is  80\n",
      "Successfully booked\n",
      "Total cost is  800\n",
      "\n",
      "\n",
      "Movie name is  Babys day out\n",
      "Showtime is  8:00 pm\n",
      "Ticket price is  150\n",
      "Number of tickets available is  6\n",
      "That many tickets are not available\n"
     ]
    }
   ],
   "source": [
    "class MovieTicket:\n",
    "    def __init__(self,movie_name,show_time,ticket_price,no_of_tickets_available):\n",
    "        self.movie_name=movie_name\n",
    "        self.show_time=show_time\n",
    "        self.ticket_price=ticket_price\n",
    "        self.no_of_tickets_available=no_of_tickets_available\n",
    "    def Book_tickets(self,n):\n",
    "        if(n>self.no_of_tickets_available):\n",
    "            print('That many tickets are not available')\n",
    "        else:\n",
    "            self.no_of_tickets_available=self.no_of_tickets_available-n\n",
    "            print('Successfully booked')\n",
    "    def calculate_total_cost(self,n):\n",
    "        total=self.ticket_price*n\n",
    "        print('Total cost is ',total)\n",
    "    def Display_movie_info(self):\n",
    "        print(\"Movie name is \",self.movie_name)\n",
    "        print(\"Showtime is \", self.show_time)\n",
    "        print(\"Ticket price is \",self.ticket_price)\n",
    "        print(\"Number of tickets available is \",self.no_of_tickets_available)\n",
    "m=MovieTicket('3 Idiots','5:00 pm',200,80)\n",
    "m.Display_movie_info()\n",
    "m.Book_tickets(4)\n",
    "m.calculate_total_cost(4)\n",
    "print(\"\\n\")\n",
    "n=MovieTicket('Babys day out','8:00 pm',150,6)\n",
    "n.Display_movie_info()\n",
    "n.Book_tickets(7)\n",
    "\n"
   ]
  },
  {
   "cell_type": "code",
   "execution_count": 20,
   "id": "25d6cd38",
   "metadata": {},
   "outputs": [
    {
     "name": "stdout",
     "output_type": "stream",
     "text": [
      "Movie name is  3 Idiots\n",
      "Showtime is  5:00 pm\n",
      "Ticket price is  200\n",
      "Number of tickets available is  80\n",
      "Total cost is  800\n",
      "Successfully booked\n",
      "\n",
      "\n",
      "Movie name is  Babys day out\n",
      "Showtime is  8:00 pm\n",
      "Ticket price is  150\n",
      "Number of tickets available is  6\n",
      "That many tickets are not available\n"
     ]
    }
   ],
   "source": [
    "class MovieTicket:\n",
    "    def __init__(self,movie_name,show_time,ticket_price,no_of_tickets_available):\n",
    "        self.movie_name=movie_name\n",
    "        self.show_time=show_time\n",
    "        self.ticket_price=ticket_price\n",
    "        self.no_of_tickets_available=no_of_tickets_available\n",
    "    def Book_tickets(self,n):\n",
    "        if(n>self.no_of_tickets_available):\n",
    "            print('That many tickets are not available')\n",
    "        else:\n",
    "            total=self.ticket_price*n\n",
    "            print('Total cost is ',total)\n",
    "            self.no_of_tickets_available=self.no_of_tickets_available-n\n",
    "            print('Successfully booked')\n",
    "    def Display_movie_info(self):\n",
    "        print(\"Movie name is \",self.movie_name)\n",
    "        print(\"Showtime is \", self.show_time)\n",
    "        print(\"Ticket price is \",self.ticket_price)\n",
    "        print(\"Number of tickets available is \",self.no_of_tickets_available)\n",
    "m=MovieTicket('3 Idiots','5:00 pm',200,80)\n",
    "m.Display_movie_info()\n",
    "m.Book_tickets(4)\n",
    "#m.calculate_total_cost(4)\n",
    "print(\"\\n\")\n",
    "n=MovieTicket('Babys day out','8:00 pm',150,6)\n",
    "n.Display_movie_info()\n",
    "n.Book_tickets(7)\n",
    "#n.calculate_total_cost(7)"
   ]
  },
  {
   "cell_type": "code",
   "execution_count": 26,
   "id": "391110c4",
   "metadata": {},
   "outputs": [
    {
     "name": "stdout",
     "output_type": "stream",
     "text": [
      "Name is  Ram\n",
      "Salary is  3400000\n"
     ]
    }
   ],
   "source": [
    "class Employee:\n",
    "    def __init__(self,name,salary):\n",
    "        self.name=name\n",
    "        self.__salary=salary\n",
    "    def work(self):\n",
    "        print('Software Developer')\n",
    "    def show(self):\n",
    "        print(\"Name is \",self.name)\n",
    "        print(\"Salary is \",self.__salary)\n",
    "e=Employee('Ram',3400000) \n",
    "e.show()"
   ]
  },
  {
   "cell_type": "code",
   "execution_count": 21,
   "id": "abd60055",
   "metadata": {},
   "outputs": [
    {
     "name": "stdout",
     "output_type": "stream",
     "text": [
      "Balance is  249800\n",
      "Balance is  250800\n"
     ]
    }
   ],
   "source": [
    "class CreditCard:\n",
    "    def __init__(self,limit,balance):\n",
    "        self.__limit=limit\n",
    "        self._balance=balance\n",
    "    def withdraw(self,amt): \n",
    "        if self._balance>amt:\n",
    "             self._balance= self._balance-amt\n",
    "        else:\n",
    "            print('Insufficient balance')\n",
    "    def  deposit(self,amt):\n",
    "        self._balance= self._balance+amt\n",
    "    def get_balance(self):\n",
    "        print(\"Balance is \",self._balance)\n",
    "c=CreditCard(1000,250000)  \n",
    "c.withdraw(200) \n",
    "c.get_balance()\n",
    "c.deposit(1000)\n",
    "c.get_balance()"
   ]
  },
  {
   "cell_type": "code",
   "execution_count": 33,
   "id": "dd975f14",
   "metadata": {},
   "outputs": [
    {
     "name": "stdout",
     "output_type": "stream",
     "text": [
      "Product ID is  1P21234\n",
      "Product name is  Race bike\n",
      "Product price is  600\n",
      "Price after discount is  540.0\n",
      "It is not expensive\n",
      "\n",
      "\n",
      "Product ID is  1P21235\n",
      "Product name is  Race car\n",
      "Product price is  2000000000\n",
      "It is expensive\n"
     ]
    }
   ],
   "source": [
    "class Product:\n",
    "    def __init__(self,product_id,product_name,product_price):\n",
    "        self.product_id=product_id\n",
    "        self.product_name=product_name\n",
    "        self.product_price=product_price\n",
    "    def apply_discount(self,p):\n",
    "        self.product_price=self.product_price-((p/100)*self.product_price)\n",
    "        print('Price after discount is ',self.product_price)\n",
    "    def is_expensive(self):\n",
    "        if(self.product_price>100000):\n",
    "            print('It is expensive')\n",
    "        else:\n",
    "            print('It is not expensive')\n",
    "    def display_prod_info(self):\n",
    "        print('Product ID is ',self.product_id)\n",
    "        print('Product name is ',self.product_name)\n",
    "        print('Product price is ',self.product_price)\n",
    "p=Product('1P21234','Race bike',600)\n",
    "p.display_prod_info()\n",
    "p.apply_discount(10)\n",
    "p.is_expensive()\n",
    "\n",
    "print('\\n')\n",
    "q=Product('1P21235','Race car',2000000000)\n",
    "q.display_prod_info()\n",
    "q.is_expensive()\n"
   ]
  },
  {
   "cell_type": "code",
   "execution_count": null,
   "id": "625359dc",
   "metadata": {},
   "outputs": [],
   "source": []
  }
 ],
 "metadata": {
  "kernelspec": {
   "display_name": "Python 3 (ipykernel)",
   "language": "python",
   "name": "python3"
  },
  "language_info": {
   "codemirror_mode": {
    "name": "ipython",
    "version": 3
   },
   "file_extension": ".py",
   "mimetype": "text/x-python",
   "name": "python",
   "nbconvert_exporter": "python",
   "pygments_lexer": "ipython3",
   "version": "3.9.12"
  }
 },
 "nbformat": 4,
 "nbformat_minor": 5
}
